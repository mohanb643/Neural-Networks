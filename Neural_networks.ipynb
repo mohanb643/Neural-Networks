{
 "cells": [
  {
   "cell_type": "code",
   "execution_count": 60,
   "id": "3aec8d10-9557-4a06-8bdc-6acbdc8969b0",
   "metadata": {},
   "outputs": [],
   "source": [
    "import os\n",
    "import numpy as np\n",
    "import pandas as pd\n",
    "import matplotlib.pyplot as plt\n",
    "import warnings\n",
    "warnings.filterwarnings(\"ignore\")\n",
    "from sklearn.model_selection import train_test_split\n",
    "from sklearn.preprocessing import StandardScaler\n",
    "from sklearn.impute import SimpleImputer\n",
    "from sklearn.metrics import accuracy_score, classification_report, confusion_matrix\n",
    "from sklearn.utils import shuffle\n",
    "import tensorflow as tf\n",
    "from tensorflow import keras\n",
    "from tensorflow.keras import layers\n",
    "from sklearn.metrics import precision_score, recall_score, f1_score"
   ]
  },
  {
   "cell_type": "markdown",
   "id": "8fcfbc63-7073-4304-84b6-77f0c6416f10",
   "metadata": {},
   "source": [
    "## Data Exploration & Preprocessing"
   ]
  },
  {
   "cell_type": "code",
   "execution_count": 3,
   "id": "10da6539-f603-4bad-83e7-9b8f09c86c29",
   "metadata": {},
   "outputs": [],
   "source": [
    "df = pd.read_csv('Alphabets_data.csv')"
   ]
  },
  {
   "cell_type": "code",
   "execution_count": 4,
   "id": "2270eabf-9c99-4d51-bf63-ebe0720dae1e",
   "metadata": {},
   "outputs": [
    {
     "data": {
      "text/plain": [
       "(20000, 17)"
      ]
     },
     "execution_count": 4,
     "metadata": {},
     "output_type": "execute_result"
    }
   ],
   "source": [
    "df.shape"
   ]
  },
  {
   "cell_type": "code",
   "execution_count": 5,
   "id": "84555154-09bf-4a55-8f84-f3fe49c2567b",
   "metadata": {},
   "outputs": [
    {
     "data": {
      "text/plain": [
       "['letter',\n",
       " 'xbox',\n",
       " 'ybox',\n",
       " 'width',\n",
       " 'height',\n",
       " 'onpix',\n",
       " 'xbar',\n",
       " 'ybar',\n",
       " 'x2bar',\n",
       " 'y2bar',\n",
       " 'xybar',\n",
       " 'x2ybar',\n",
       " 'xy2bar',\n",
       " 'xedge',\n",
       " 'xedgey',\n",
       " 'yedge',\n",
       " 'yedgex']"
      ]
     },
     "execution_count": 5,
     "metadata": {},
     "output_type": "execute_result"
    }
   ],
   "source": [
    "df.columns.tolist()"
   ]
  },
  {
   "cell_type": "code",
   "execution_count": 6,
   "id": "215cd472-c3df-4db3-8709-c947aef4974d",
   "metadata": {},
   "outputs": [
    {
     "data": {
      "text/html": [
       "<div>\n",
       "<style scoped>\n",
       "    .dataframe tbody tr th:only-of-type {\n",
       "        vertical-align: middle;\n",
       "    }\n",
       "\n",
       "    .dataframe tbody tr th {\n",
       "        vertical-align: top;\n",
       "    }\n",
       "\n",
       "    .dataframe thead th {\n",
       "        text-align: right;\n",
       "    }\n",
       "</style>\n",
       "<table border=\"1\" class=\"dataframe\">\n",
       "  <thead>\n",
       "    <tr style=\"text-align: right;\">\n",
       "      <th></th>\n",
       "      <th>letter</th>\n",
       "      <th>xbox</th>\n",
       "      <th>ybox</th>\n",
       "      <th>width</th>\n",
       "      <th>height</th>\n",
       "      <th>onpix</th>\n",
       "      <th>xbar</th>\n",
       "      <th>ybar</th>\n",
       "      <th>x2bar</th>\n",
       "      <th>y2bar</th>\n",
       "      <th>xybar</th>\n",
       "      <th>x2ybar</th>\n",
       "      <th>xy2bar</th>\n",
       "      <th>xedge</th>\n",
       "      <th>xedgey</th>\n",
       "      <th>yedge</th>\n",
       "      <th>yedgex</th>\n",
       "    </tr>\n",
       "  </thead>\n",
       "  <tbody>\n",
       "    <tr>\n",
       "      <th>0</th>\n",
       "      <td>T</td>\n",
       "      <td>2</td>\n",
       "      <td>8</td>\n",
       "      <td>3</td>\n",
       "      <td>5</td>\n",
       "      <td>1</td>\n",
       "      <td>8</td>\n",
       "      <td>13</td>\n",
       "      <td>0</td>\n",
       "      <td>6</td>\n",
       "      <td>6</td>\n",
       "      <td>10</td>\n",
       "      <td>8</td>\n",
       "      <td>0</td>\n",
       "      <td>8</td>\n",
       "      <td>0</td>\n",
       "      <td>8</td>\n",
       "    </tr>\n",
       "    <tr>\n",
       "      <th>1</th>\n",
       "      <td>I</td>\n",
       "      <td>5</td>\n",
       "      <td>12</td>\n",
       "      <td>3</td>\n",
       "      <td>7</td>\n",
       "      <td>2</td>\n",
       "      <td>10</td>\n",
       "      <td>5</td>\n",
       "      <td>5</td>\n",
       "      <td>4</td>\n",
       "      <td>13</td>\n",
       "      <td>3</td>\n",
       "      <td>9</td>\n",
       "      <td>2</td>\n",
       "      <td>8</td>\n",
       "      <td>4</td>\n",
       "      <td>10</td>\n",
       "    </tr>\n",
       "    <tr>\n",
       "      <th>2</th>\n",
       "      <td>D</td>\n",
       "      <td>4</td>\n",
       "      <td>11</td>\n",
       "      <td>6</td>\n",
       "      <td>8</td>\n",
       "      <td>6</td>\n",
       "      <td>10</td>\n",
       "      <td>6</td>\n",
       "      <td>2</td>\n",
       "      <td>6</td>\n",
       "      <td>10</td>\n",
       "      <td>3</td>\n",
       "      <td>7</td>\n",
       "      <td>3</td>\n",
       "      <td>7</td>\n",
       "      <td>3</td>\n",
       "      <td>9</td>\n",
       "    </tr>\n",
       "    <tr>\n",
       "      <th>3</th>\n",
       "      <td>N</td>\n",
       "      <td>7</td>\n",
       "      <td>11</td>\n",
       "      <td>6</td>\n",
       "      <td>6</td>\n",
       "      <td>3</td>\n",
       "      <td>5</td>\n",
       "      <td>9</td>\n",
       "      <td>4</td>\n",
       "      <td>6</td>\n",
       "      <td>4</td>\n",
       "      <td>4</td>\n",
       "      <td>10</td>\n",
       "      <td>6</td>\n",
       "      <td>10</td>\n",
       "      <td>2</td>\n",
       "      <td>8</td>\n",
       "    </tr>\n",
       "    <tr>\n",
       "      <th>4</th>\n",
       "      <td>G</td>\n",
       "      <td>2</td>\n",
       "      <td>1</td>\n",
       "      <td>3</td>\n",
       "      <td>1</td>\n",
       "      <td>1</td>\n",
       "      <td>8</td>\n",
       "      <td>6</td>\n",
       "      <td>6</td>\n",
       "      <td>6</td>\n",
       "      <td>6</td>\n",
       "      <td>5</td>\n",
       "      <td>9</td>\n",
       "      <td>1</td>\n",
       "      <td>7</td>\n",
       "      <td>5</td>\n",
       "      <td>10</td>\n",
       "    </tr>\n",
       "  </tbody>\n",
       "</table>\n",
       "</div>"
      ],
      "text/plain": [
       "  letter  xbox  ybox  width  height  onpix  xbar  ybar  x2bar  y2bar  xybar  \\\n",
       "0      T     2     8      3       5      1     8    13      0      6      6   \n",
       "1      I     5    12      3       7      2    10     5      5      4     13   \n",
       "2      D     4    11      6       8      6    10     6      2      6     10   \n",
       "3      N     7    11      6       6      3     5     9      4      6      4   \n",
       "4      G     2     1      3       1      1     8     6      6      6      6   \n",
       "\n",
       "   x2ybar  xy2bar  xedge  xedgey  yedge  yedgex  \n",
       "0      10       8      0       8      0       8  \n",
       "1       3       9      2       8      4      10  \n",
       "2       3       7      3       7      3       9  \n",
       "3       4      10      6      10      2       8  \n",
       "4       5       9      1       7      5      10  "
      ]
     },
     "execution_count": 6,
     "metadata": {},
     "output_type": "execute_result"
    }
   ],
   "source": [
    "df.head()"
   ]
  },
  {
   "cell_type": "code",
   "execution_count": 7,
   "id": "347e1aea-62d0-4ae2-95a1-8ad1a63abc63",
   "metadata": {},
   "outputs": [
    {
     "name": "stdout",
     "output_type": "stream",
     "text": [
      "<class 'pandas.core.frame.DataFrame'>\n",
      "RangeIndex: 20000 entries, 0 to 19999\n",
      "Data columns (total 17 columns):\n",
      " #   Column  Non-Null Count  Dtype \n",
      "---  ------  --------------  ----- \n",
      " 0   letter  20000 non-null  object\n",
      " 1   xbox    20000 non-null  int64 \n",
      " 2   ybox    20000 non-null  int64 \n",
      " 3   width   20000 non-null  int64 \n",
      " 4   height  20000 non-null  int64 \n",
      " 5   onpix   20000 non-null  int64 \n",
      " 6   xbar    20000 non-null  int64 \n",
      " 7   ybar    20000 non-null  int64 \n",
      " 8   x2bar   20000 non-null  int64 \n",
      " 9   y2bar   20000 non-null  int64 \n",
      " 10  xybar   20000 non-null  int64 \n",
      " 11  x2ybar  20000 non-null  int64 \n",
      " 12  xy2bar  20000 non-null  int64 \n",
      " 13  xedge   20000 non-null  int64 \n",
      " 14  xedgey  20000 non-null  int64 \n",
      " 15  yedge   20000 non-null  int64 \n",
      " 16  yedgex  20000 non-null  int64 \n",
      "dtypes: int64(16), object(1)\n",
      "memory usage: 2.6+ MB\n"
     ]
    }
   ],
   "source": [
    "df.info()"
   ]
  },
  {
   "cell_type": "code",
   "execution_count": 8,
   "id": "681f70d8-2b8f-4b70-9507-1e285284895c",
   "metadata": {},
   "outputs": [
    {
     "data": {
      "text/plain": [
       "letter    0\n",
       "xbox      0\n",
       "ybox      0\n",
       "width     0\n",
       "height    0\n",
       "onpix     0\n",
       "xbar      0\n",
       "ybar      0\n",
       "x2bar     0\n",
       "y2bar     0\n",
       "xybar     0\n",
       "x2ybar    0\n",
       "xy2bar    0\n",
       "xedge     0\n",
       "xedgey    0\n",
       "yedge     0\n",
       "yedgex    0\n",
       "dtype: int64"
      ]
     },
     "execution_count": 8,
     "metadata": {},
     "output_type": "execute_result"
    }
   ],
   "source": [
    "df.isnull().sum()"
   ]
  },
  {
   "cell_type": "code",
   "execution_count": 9,
   "id": "f13108e8-007c-4ae4-82ac-d2932680fc63",
   "metadata": {},
   "outputs": [],
   "source": [
    "possible_label_names = {\"label\", \"class\", \"target\", \"y\"}\n",
    "label_col = None"
   ]
  },
  {
   "cell_type": "code",
   "execution_count": 10,
   "id": "a2e1c499-1370-4aae-92f7-3710af22b051",
   "metadata": {},
   "outputs": [],
   "source": [
    "for name in df.columns:\n",
    "    if name.lower() in possible_label_names:\n",
    "        label_col = name\n",
    "        break"
   ]
  },
  {
   "cell_type": "code",
   "execution_count": 11,
   "id": "576f57f1-5b9b-4c3b-b3a5-66886ad0ce3d",
   "metadata": {},
   "outputs": [
    {
     "name": "stdout",
     "output_type": "stream",
     "text": [
      "\n",
      "Chosen label column: letter\n"
     ]
    }
   ],
   "source": [
    "if label_col is None:\n",
    "    n = len(df)\n",
    "    candidates = []\n",
    "    for c in df.columns:\n",
    "        nunique = df[c].nunique(dropna=False)\n",
    "        if nunique <= max(52, int(0.05*n)):\n",
    "            candidates.append((c, nunique, df[c].dtype))\n",
    "            if candidates:\n",
    "                candidates.sort(key=lambda x: (str(x[2]).startswith('float') or str(x[2]).startswith('int'), x[1]))\n",
    "                label_col = candidates[0][0]\n",
    "            else:\n",
    "                label_col = df.columns[-1]\n",
    "\n",
    "print(f\"\\nChosen label column: {label_col}\")"
   ]
  },
  {
   "cell_type": "code",
   "execution_count": 12,
   "id": "5a540f0c-465f-40a0-8d7f-948111f8a953",
   "metadata": {},
   "outputs": [],
   "source": [
    "if df[label_col].dtype == object:\n",
    "    y_raw = df[label_col].astype(str)\n",
    "else:\n",
    "    y_raw = df[label_col]"
   ]
  },
  {
   "cell_type": "code",
   "execution_count": 13,
   "id": "7eebb384-2fe6-441f-b74a-51420294f4d6",
   "metadata": {},
   "outputs": [],
   "source": [
    "X_raw = df.drop(columns=[label_col])"
   ]
  },
  {
   "cell_type": "code",
   "execution_count": 14,
   "id": "03838943-d419-4187-bef2-f39ba7d6d1fc",
   "metadata": {},
   "outputs": [],
   "source": [
    "for col in X_raw.columns:\n",
    "    if not np.issubdtype(X_raw[col].dtype, np.number):\n",
    "        X_raw[col] = X_raw[col].astype('category').cat.codes"
   ]
  },
  {
   "cell_type": "code",
   "execution_count": 15,
   "id": "08827371-b9d3-460a-bb25-79df2bdcd834",
   "metadata": {},
   "outputs": [],
   "source": [
    "imputer = SimpleImputer(strategy='median')\n",
    "X_imputed = imputer.fit_transform(X_raw)\n",
    "X_imputed = pd.DataFrame(X_imputed, columns=X_raw.columns)"
   ]
  },
  {
   "cell_type": "code",
   "execution_count": 16,
   "id": "f9f4ae6b-f016-4506-80c7-0dba0f84b32f",
   "metadata": {},
   "outputs": [],
   "source": [
    "if not np.issubdtype(y_raw.dtype, np.number):\n",
    "    y_encoded = y_raw.astype('category').cat.codes.values\n",
    "    class_mapping = dict(enumerate(y_raw.astype('category').cat.categories))\n",
    "else:\n",
    "    y_encoded = y_raw.values\n",
    "    class_mapping = {int(v): int(v) for v in np.unique(y_encoded)}"
   ]
  },
  {
   "cell_type": "code",
   "execution_count": 17,
   "id": "9fd8daae-5412-4a2c-9736-d5cd810d58c1",
   "metadata": {},
   "outputs": [
    {
     "name": "stdout",
     "output_type": "stream",
     "text": [
      "\n",
      "Samples: 20000, Features: 16, Classes: 26\n",
      "Class mapping (id -> label): {0: 'A', 1: 'B', 2: 'C', 3: 'D', 4: 'E', 5: 'F', 6: 'G', 7: 'H', 8: 'I', 9: 'J', 10: 'K', 11: 'L', 12: 'M', 13: 'N', 14: 'O', 15: 'P', 16: 'Q', 17: 'R', 18: 'S', 19: 'T', 20: 'U', 21: 'V', 22: 'W', 23: 'X', 24: 'Y', 25: 'Z'}\n"
     ]
    }
   ],
   "source": [
    "num_classes = len(np.unique(y_encoded))\n",
    "print(f\"\\nSamples: {len(df)}, Features: {X_imputed.shape[1]}, Classes: {num_classes}\")\n",
    "print(\"Class mapping (id -> label):\", class_mapping)"
   ]
  },
  {
   "cell_type": "code",
   "execution_count": 18,
   "id": "cd069b66-26d7-41f6-b3ca-b08e8f07123a",
   "metadata": {},
   "outputs": [],
   "source": [
    "scaler = StandardScaler()\n",
    "X_scaled = scaler.fit_transform(X_imputed)"
   ]
  },
  {
   "cell_type": "code",
   "execution_count": 19,
   "id": "0dfa2464-357b-4054-a8db-c49b8a393450",
   "metadata": {},
   "outputs": [],
   "source": [
    "X_train, X_test, y_train, y_test = train_test_split(\n",
    "    X_scaled, y_encoded, stratify=y_encoded)"
   ]
  },
  {
   "cell_type": "code",
   "execution_count": 20,
   "id": "e2703533-02c3-490c-90b3-4ff55de164b1",
   "metadata": {},
   "outputs": [
    {
     "data": {
      "image/png": "[encoded data removed]",
      "text/plain": [
       "<Figure size 600x400 with 1 Axes>"
      ]
     },
     "metadata": {},
     "output_type": "display_data"
    }
   ],
   "source": [
    "plt.figure(figsize=(6,4))\n",
    "unique, counts = np.unique(y_encoded, return_counts=True)\n",
    "plt.bar(unique, counts)\n",
    "plt.title(\"Class Distribution\")\n",
    "plt.xlabel(\"Class ID\")\n",
    "plt.ylabel(\"Count\")\n",
    "plt.tight_layout()\n",
    "plt.show()"
   ]
  },
  {
   "cell_type": "markdown",
   "id": "e1ef285a-92f2-480b-befe-ec3dc0efe1a9",
   "metadata": {},
   "source": [
    "## Baseline ANN Model"
   ]
  },
  {
   "cell_type": "code",
   "execution_count": 21,
   "id": "42b52742-9448-4024-8fb9-15f470863d64",
   "metadata": {},
   "outputs": [],
   "source": [
    "def build_baseline_model(input_dim, num_classes):\n",
    "    model = keras.Sequential([\n",
    "        layers.Input(shape=(input_dim,)),\n",
    "        layers.Dense(128, activation='relu'),\n",
    "        layers.Dropout(0.2),\n",
    "        layers.Dense(num_classes, activation='softmax') if num_classes > 2 else layers.Dense(1, activation='sigmoid')\n",
    "    ])\n",
    "    lr = 1e-3\n",
    "    opt = keras.optimizers.Adam(learning_rate=lr)\n",
    "    loss = 'sparse_categorical_crossentropy' if num_classes > 2 else 'binary_crossentropy'\n",
    "    model.compile(optimizer=opt, loss=loss, metrics=['accuracy'])\n",
    "    return model"
   ]
  },
  {
   "cell_type": "code",
   "execution_count": 22,
   "id": "1112df69-aa8a-469b-bad4-35961020ddab",
   "metadata": {},
   "outputs": [],
   "source": [
    "input_dim = X_train.shape[1]"
   ]
  },
  {
   "cell_type": "code",
   "execution_count": 23,
   "id": "067aaf25-438d-4a40-a687-5d0d855949d9",
   "metadata": {},
   "outputs": [],
   "source": [
    "baseline_model = build_baseline_model(input_dim, num_classes)\n",
    "callbacks = [\n",
    "keras.callbacks.EarlyStopping(monitor='val_loss', patience=8, restore_best_weights=True),\n",
    "keras.callbacks.ReduceLROnPlateau(monitor='val_loss', factor=0.5, patience=4)\n",
    "]\n",
    "\n",
    "\n",
    "history_baseline = baseline_model.fit(\n",
    "X_train, y_train,\n",
    "epochs=50,\n",
    "batch_size=64,\n",
    "callbacks=callbacks,\n",
    "verbose=0\n",
    ")"
   ]
  },
  {
   "cell_type": "code",
   "execution_count": 24,
   "id": "4e9c053f-9e38-48df-97c6-eaaf423f3f0f",
   "metadata": {},
   "outputs": [
    {
     "data": {
      "image/png": "[encoded data removed]",
      "text/plain": [
       "<Figure size 600x400 with 1 Axes>"
      ]
     },
     "metadata": {},
     "output_type": "display_data"
    }
   ],
   "source": [
    "plt.figure(figsize=(6,4))\n",
    "plt.plot(history_baseline.history['accuracy'], label='train_acc')\n",
    "\n",
    "val_key = 'val_accuracy' if 'val_accuracy' in history_baseline.history else 'val_acc'\n",
    "\n",
    "if val_key in history_baseline.history:\n",
    "    plt.plot(history_baseline.history[val_key], label='val_acc')\n",
    "\n",
    "plt.title('Baseline ANN Accuracy')\n",
    "plt.xlabel('Epoch')\n",
    "plt.ylabel('Accuracy')\n",
    "plt.legend()\n",
    "plt.tight_layout()\n",
    "plt.show()\n"
   ]
  },
  {
   "cell_type": "code",
   "execution_count": 25,
   "id": "d69c894e-112a-49bf-8457-8946d7f585d7",
   "metadata": {},
   "outputs": [],
   "source": [
    "baseline_preds_proba = baseline_model.predict(X_test, verbose=0)\n",
    "if num_classes > 2:\n",
    "    baseline_preds = np.argmax(baseline_preds_proba, axis=1)\n",
    "else:\n",
    "    baseline_preds = (baseline_preds_proba.ravel() >= 0.5).astype(int)"
   ]
  },
  {
   "cell_type": "code",
   "execution_count": 26,
   "id": "c5aa71e9-6e1b-479f-9440-aac2aff17453",
   "metadata": {},
   "outputs": [
    {
     "name": "stdout",
     "output_type": "stream",
     "text": [
      "\n",
      "=== Baseline Performance ===\n",
      "Accuracy: 0.9418\n",
      "Precision (macro): 0.9423\n",
      "Recall (macro): 0.9415\n",
      "F1 (macro): 0.9416\n",
      "\n",
      "Classification Report (Baseline):\n",
      "               precision    recall  f1-score   support\n",
      "\n",
      "           0       0.98      0.98      0.98       197\n",
      "           1       0.87      0.97      0.92       191\n",
      "           2       0.97      0.95      0.96       184\n",
      "           3       0.92      0.90      0.91       201\n",
      "           4       0.88      0.93      0.91       192\n",
      "           5       0.93      0.94      0.94       194\n",
      "           6       0.96      0.92      0.94       193\n",
      "           7       0.88      0.85      0.86       183\n",
      "           8       0.97      0.93      0.95       189\n",
      "           9       0.96      0.94      0.95       187\n",
      "          10       0.92      0.95      0.93       185\n",
      "          11       0.97      0.94      0.95       190\n",
      "          12       0.96      0.94      0.95       198\n",
      "          13       0.94      0.93      0.94       196\n",
      "          14       0.91      0.92      0.92       188\n",
      "          15       0.97      0.94      0.95       201\n",
      "          16       0.95      0.96      0.96       196\n",
      "          17       0.87      0.89      0.88       190\n",
      "          18       0.95      0.94      0.95       187\n",
      "          19       0.97      0.95      0.96       199\n",
      "          20       0.97      0.98      0.97       203\n",
      "          21       0.97      0.93      0.95       191\n",
      "          22       0.94      0.99      0.96       188\n",
      "          23       0.96      0.97      0.96       197\n",
      "          24       0.97      0.98      0.98       197\n",
      "          25       0.97      0.95      0.96       183\n",
      "\n",
      "    accuracy                           0.94      5000\n",
      "   macro avg       0.94      0.94      0.94      5000\n",
      "weighted avg       0.94      0.94      0.94      5000\n",
      "\n"
     ]
    }
   ],
   "source": [
    "baseline_acc = accuracy_score(y_test, baseline_preds)\n",
    "prec, rec, f1, _ = precision_recall_fscore_support(y_test, baseline_preds, average='macro', zero_division=0)\n",
    "print(\"\\n=== Baseline Performance ===\")\n",
    "print(f\"Accuracy: {baseline_acc:.4f}\\nPrecision (macro): {prec:.4f}\\nRecall (macro): {rec:.4f}\\nF1 (macro): {f1:.4f}\")\n",
    "print(\"\\nClassification Report (Baseline):\\n\", classification_report(y_test, baseline_preds, zero_division=0))"
   ]
  },
  {
   "cell_type": "code",
   "execution_count": 27,
   "id": "c4c59e99-4d94-43e6-bc13-4d9a91785c2f",
   "metadata": {},
   "outputs": [
    {
     "data": {
      "image/png": "[encoded data removed]",
      "text/plain": [
       "<Figure size 600x500 with 2 Axes>"
      ]
     },
     "metadata": {},
     "output_type": "display_data"
    }
   ],
   "source": [
    "cm = confusion_matrix(y_test, baseline_preds)\n",
    "plt.figure(figsize=(6,5))\n",
    "plt.imshow(cm, interpolation='nearest')\n",
    "plt.title('Confusion Matrix — Baseline')\n",
    "plt.colorbar()\n",
    "plt.xlabel('Predicted')\n",
    "plt.ylabel('True')\n",
    "plt.tight_layout()\n",
    "plt.show()"
   ]
  },
  {
   "cell_type": "markdown",
   "id": "9c4b7fd9-23de-4cd1-927e-4ce3827d19d2",
   "metadata": {},
   "source": [
    "## Hyperparameter Tuning"
   ]
  },
  {
   "cell_type": "code",
   "execution_count": 31,
   "id": "214661c2-adcc-4a39-ae4a-be2af1b42a28",
   "metadata": {},
   "outputs": [],
   "source": [
    "X = df.drop(\"letter\", axis=1).values\n",
    "y = df[\"letter\"].values"
   ]
  },
  {
   "cell_type": "code",
   "execution_count": 32,
   "id": "2bf1b4e1-9920-4934-8002-fae6841744f6",
   "metadata": {},
   "outputs": [],
   "source": [
    "num_classes = len(np.unique(y))"
   ]
  },
  {
   "cell_type": "code",
   "execution_count": 33,
   "id": "9f29d8a1-77e4-4d4d-b124-763e49023f6c",
   "metadata": {},
   "outputs": [],
   "source": [
    "TEST_SIZE = 0.2\n",
    "VAL_SIZE_WITHIN_TRAIN = 0.2\n",
    "RANDOM_STATE = 42\n",
    "\n",
    "X_train, X_test, y_train, y_test = train_test_split(\n",
    "    X, y, test_size=TEST_SIZE, random_state=RANDOM_STATE, stratify=y\n",
    ")\n",
    "\n",
    "X_tr, X_val, y_tr, y_val = train_test_split(\n",
    "    X_train, y_train, test_size=VAL_SIZE_WITHIN_TRAIN, random_state=RANDOM_STATE, stratify=y_train\n",
    ")\n"
   ]
  },
  {
   "cell_type": "code",
   "execution_count": 34,
   "id": "b4242902-6354-4d41-aec7-841923548ad8",
   "metadata": {},
   "outputs": [],
   "source": [
    "scaler = StandardScaler()\n",
    "X_tr = scaler.fit_transform(X_tr)\n",
    "X_val = scaler.transform(X_val)\n",
    "X_test = scaler.transform(X_test)"
   ]
  },
  {
   "cell_type": "code",
   "execution_count": 37,
   "id": "42becb5f-2881-4a59-8806-35d82e289ace",
   "metadata": {},
   "outputs": [],
   "source": [
    "def build_model(cfg, input_dim, num_classes):\n",
    "    model = keras.models.Sequential()\n",
    "    model.add(layers.Dense(cfg['units'], activation=cfg['activation'], input_shape=(input_dim,)))\n",
    "    for _ in range(cfg['hidden_layers'] - 1):\n",
    "        model.add(layers.Dense(cfg['units'], activation=cfg['activation']))\n",
    "    model.add(layers.Dropout(0.3))\n",
    "    if num_classes > 2:\n",
    "        model.add(layers.Dense(num_classes, activation='softmax'))\n",
    "        loss = 'sparse_categorical_crossentropy'\n",
    "    else:\n",
    "        model.add(layers.Dense(1, activation='sigmoid'))\n",
    "        loss = 'binary_crossentropy'\n",
    "    opt = keras.optimizers.Adam(learning_rate=cfg['learning_rate'])\n",
    "    model.compile(optimizer=opt, loss=loss, metrics=['accuracy'])\n",
    "    return model"
   ]
  },
  {
   "cell_type": "code",
   "execution_count": 43,
   "id": "7bc7ea48-a58d-4ef8-abba-8462f653cb14",
   "metadata": {},
   "outputs": [],
   "source": [
    "from sklearn.preprocessing import LabelEncoder\n",
    "\n",
    "le = LabelEncoder()\n",
    "y_tr = le.fit_transform(y_tr)   \n",
    "y_val = le.transform(y_val)\n",
    "y_test = le.transform(y_test)   "
   ]
  },
  {
   "cell_type": "code",
   "execution_count": 44,
   "id": "133a6a3d-82c7-4fb0-a75b-47cc84b86ac1",
   "metadata": {},
   "outputs": [
    {
     "name": "stdout",
     "output_type": "stream",
     "text": [
      "[11  6 19 18 23 22 24 14 18 14]\n",
      "<class 'numpy.int64'>\n"
     ]
    }
   ],
   "source": [
    "print(y_tr[:10])\n",
    "print(type(y_tr[0]))"
   ]
  },
  {
   "cell_type": "code",
   "execution_count": 45,
   "id": "fb1197de-7178-4be6-a0e8-1eafd8152e4d",
   "metadata": {},
   "outputs": [
    {
     "name": "stdout",
     "output_type": "stream",
     "text": [
      "Epoch 1/20\n",
      "\u001b[1m400/400\u001b[0m \u001b[32m━━━━━━━━━━━━━━━━━━━━\u001b[0m\u001b[37m\u001b[0m \u001b[1m1s\u001b[0m 1ms/step - accuracy: 0.2081 - loss: 2.7983 - val_accuracy: 0.6450 - val_loss: 1.5372\n",
      "Epoch 2/20\n",
      "\u001b[1m400/400\u001b[0m \u001b[32m━━━━━━━━━━━━━━━━━━━━\u001b[0m\u001b[37m\u001b[0m \u001b[1m0s\u001b[0m 1ms/step - accuracy: 0.5864 - loss: 1.4830 - val_accuracy: 0.7169 - val_loss: 1.1036\n",
      "Epoch 3/20\n",
      "\u001b[1m400/400\u001b[0m \u001b[32m━━━━━━━━━━━━━━━━━━━━\u001b[0m\u001b[37m\u001b[0m \u001b[1m0s\u001b[0m 1ms/step - accuracy: 0.6474 - loss: 1.1807 - val_accuracy: 0.7466 - val_loss: 0.9412\n",
      "Epoch 4/20\n",
      "\u001b[1m400/400\u001b[0m \u001b[32m━━━━━━━━━━━━━━━━━━━━\u001b[0m\u001b[37m\u001b[0m \u001b[1m0s\u001b[0m 1ms/step - accuracy: 0.6899 - loss: 1.0339 - val_accuracy: 0.7650 - val_loss: 0.8514\n",
      "Epoch 5/20\n",
      "\u001b[1m400/400\u001b[0m \u001b[32m━━━━━━━━━━━━━━━━━━━━\u001b[0m\u001b[37m\u001b[0m \u001b[1m1s\u001b[0m 1ms/step - accuracy: 0.7075 - loss: 0.9636 - val_accuracy: 0.7797 - val_loss: 0.7874\n",
      "Epoch 6/20\n",
      "\u001b[1m400/400\u001b[0m \u001b[32m━━━━━━━━━━━━━━━━━━━━\u001b[0m\u001b[37m\u001b[0m \u001b[1m0s\u001b[0m 1ms/step - accuracy: 0.7305 - loss: 0.8795 - val_accuracy: 0.7881 - val_loss: 0.7419\n",
      "Epoch 7/20\n",
      "\u001b[1m400/400\u001b[0m \u001b[32m━━━━━━━━━━━━━━━━━━━━\u001b[0m\u001b[37m\u001b[0m \u001b[1m0s\u001b[0m 1ms/step - accuracy: 0.7410 - loss: 0.8495 - val_accuracy: 0.7978 - val_loss: 0.7006\n",
      "Epoch 8/20\n",
      "\u001b[1m400/400\u001b[0m \u001b[32m━━━━━━━━━━━━━━━━━━━━\u001b[0m\u001b[37m\u001b[0m \u001b[1m0s\u001b[0m 1ms/step - accuracy: 0.7480 - loss: 0.8260 - val_accuracy: 0.8044 - val_loss: 0.6700\n",
      "Epoch 9/20\n",
      "\u001b[1m400/400\u001b[0m \u001b[32m━━━━━━━━━━━━━━━━━━━━\u001b[0m\u001b[37m\u001b[0m \u001b[1m1s\u001b[0m 1ms/step - accuracy: 0.7646 - loss: 0.7741 - val_accuracy: 0.8150 - val_loss: 0.6438\n",
      "Epoch 10/20\n",
      "\u001b[1m400/400\u001b[0m \u001b[32m━━━━━━━━━━━━━━━━━━━━\u001b[0m\u001b[37m\u001b[0m \u001b[1m0s\u001b[0m 1ms/step - accuracy: 0.7685 - loss: 0.7590 - val_accuracy: 0.8228 - val_loss: 0.6202\n",
      "Epoch 11/20\n",
      "\u001b[1m400/400\u001b[0m \u001b[32m━━━━━━━━━━━━━━━━━━━━\u001b[0m\u001b[37m\u001b[0m \u001b[1m1s\u001b[0m 1ms/step - accuracy: 0.7767 - loss: 0.7200 - val_accuracy: 0.8231 - val_loss: 0.6024\n",
      "Epoch 12/20\n",
      "\u001b[1m400/400\u001b[0m \u001b[32m━━━━━━━━━━━━━━━━━━━━\u001b[0m\u001b[37m\u001b[0m \u001b[1m1s\u001b[0m 1ms/step - accuracy: 0.7734 - loss: 0.7221 - val_accuracy: 0.8244 - val_loss: 0.5860\n",
      "Epoch 13/20\n",
      "\u001b[1m400/400\u001b[0m \u001b[32m━━━━━━━━━━━━━━━━━━━━\u001b[0m\u001b[37m\u001b[0m \u001b[1m0s\u001b[0m 1ms/step - accuracy: 0.7796 - loss: 0.7133 - val_accuracy: 0.8328 - val_loss: 0.5714\n",
      "Epoch 14/20\n",
      "\u001b[1m400/400\u001b[0m \u001b[32m━━━━━━━━━━━━━━━━━━━━\u001b[0m\u001b[37m\u001b[0m \u001b[1m1s\u001b[0m 1ms/step - accuracy: 0.7910 - loss: 0.6833 - val_accuracy: 0.8322 - val_loss: 0.5557\n",
      "Epoch 15/20\n",
      "\u001b[1m400/400\u001b[0m \u001b[32m━━━━━━━━━━━━━━━━━━━━\u001b[0m\u001b[37m\u001b[0m \u001b[1m1s\u001b[0m 1ms/step - accuracy: 0.7919 - loss: 0.6692 - val_accuracy: 0.8372 - val_loss: 0.5427\n",
      "Epoch 16/20\n",
      "\u001b[1m400/400\u001b[0m \u001b[32m━━━━━━━━━━━━━━━━━━━━\u001b[0m\u001b[37m\u001b[0m \u001b[1m0s\u001b[0m 1ms/step - accuracy: 0.8014 - loss: 0.6406 - val_accuracy: 0.8466 - val_loss: 0.5294\n",
      "Epoch 17/20\n",
      "\u001b[1m400/400\u001b[0m \u001b[32m━━━━━━━━━━━━━━━━━━━━\u001b[0m\u001b[37m\u001b[0m \u001b[1m0s\u001b[0m 1ms/step - accuracy: 0.7978 - loss: 0.6419 - val_accuracy: 0.8491 - val_loss: 0.5180\n",
      "Epoch 18/20\n",
      "\u001b[1m400/400\u001b[0m \u001b[32m━━━━━━━━━━━━━━━━━━━━\u001b[0m\u001b[37m\u001b[0m \u001b[1m1s\u001b[0m 1ms/step - accuracy: 0.8024 - loss: 0.6427 - val_accuracy: 0.8541 - val_loss: 0.5088\n",
      "Epoch 19/20\n",
      "\u001b[1m400/400\u001b[0m \u001b[32m━━━━━━━━━━━━━━━━━━━━\u001b[0m\u001b[37m\u001b[0m \u001b[1m1s\u001b[0m 1ms/step - accuracy: 0.8073 - loss: 0.6126 - val_accuracy: 0.8584 - val_loss: 0.4952\n",
      "Epoch 20/20\n",
      "\u001b[1m400/400\u001b[0m \u001b[32m━━━━━━━━━━━━━━━━━━━━\u001b[0m\u001b[37m\u001b[0m \u001b[1m1s\u001b[0m 1ms/step - accuracy: 0.8190 - loss: 0.5980 - val_accuracy: 0.8578 - val_loss: 0.4882\n"
     ]
    }
   ],
   "source": [
    "history_baseline = baseline_model.fit(\n",
    "    X_tr, y_tr,\n",
    "    validation_data=(X_val, y_val),\n",
    "    epochs=20,\n",
    "    batch_size=32,\n",
    "    verbose=1\n",
    ")"
   ]
  },
  {
   "cell_type": "code",
   "execution_count": 46,
   "id": "034ca6a1-04fe-435f-837c-158948ab172c",
   "metadata": {},
   "outputs": [
    {
     "name": "stdout",
     "output_type": "stream",
     "text": [
      "Epoch 1/20\n",
      "\u001b[1m400/400\u001b[0m \u001b[32m━━━━━━━━━━━━━━━━━━━━\u001b[0m\u001b[37m\u001b[0m \u001b[1m1s\u001b[0m 2ms/step - accuracy: 0.1965 - loss: 2.8441 - val_accuracy: 0.6250 - val_loss: 1.5703\n",
      "Epoch 2/20\n",
      "\u001b[1m400/400\u001b[0m \u001b[32m━━━━━━━━━━━━━━━━━━━━\u001b[0m\u001b[37m\u001b[0m \u001b[1m1s\u001b[0m 1ms/step - accuracy: 0.5639 - loss: 1.5307 - val_accuracy: 0.7094 - val_loss: 1.1347\n",
      "Epoch 3/20\n",
      "\u001b[1m400/400\u001b[0m \u001b[32m━━━━━━━━━━━━━━━━━━━━\u001b[0m\u001b[37m\u001b[0m \u001b[1m1s\u001b[0m 2ms/step - accuracy: 0.6477 - loss: 1.2168 - val_accuracy: 0.7462 - val_loss: 0.9687\n",
      "Epoch 4/20\n",
      "\u001b[1m400/400\u001b[0m \u001b[32m━━━━━━━━━━━━━━━━━━━━\u001b[0m\u001b[37m\u001b[0m \u001b[1m1s\u001b[0m 1ms/step - accuracy: 0.6706 - loss: 1.0797 - val_accuracy: 0.7569 - val_loss: 0.8743\n",
      "Epoch 5/20\n",
      "\u001b[1m400/400\u001b[0m \u001b[32m━━━━━━━━━━━━━━━━━━━━\u001b[0m\u001b[37m\u001b[0m \u001b[1m0s\u001b[0m 1ms/step - accuracy: 0.6952 - loss: 0.9878 - val_accuracy: 0.7766 - val_loss: 0.8099\n",
      "Epoch 6/20\n",
      "\u001b[1m400/400\u001b[0m \u001b[32m━━━━━━━━━━━━━━━━━━━━\u001b[0m\u001b[37m\u001b[0m \u001b[1m0s\u001b[0m 1ms/step - accuracy: 0.7223 - loss: 0.9197 - val_accuracy: 0.7912 - val_loss: 0.7580\n",
      "Epoch 7/20\n",
      "\u001b[1m400/400\u001b[0m \u001b[32m━━━━━━━━━━━━━━━━━━━━\u001b[0m\u001b[37m\u001b[0m \u001b[1m0s\u001b[0m 1ms/step - accuracy: 0.7416 - loss: 0.8580 - val_accuracy: 0.7997 - val_loss: 0.7135\n",
      "Epoch 8/20\n",
      "\u001b[1m400/400\u001b[0m \u001b[32m━━━━━━━━━━━━━━━━━━━━\u001b[0m\u001b[37m\u001b[0m \u001b[1m0s\u001b[0m 1ms/step - accuracy: 0.7452 - loss: 0.8265 - val_accuracy: 0.8109 - val_loss: 0.6804\n",
      "Epoch 9/20\n",
      "\u001b[1m400/400\u001b[0m \u001b[32m━━━━━━━━━━━━━━━━━━━━\u001b[0m\u001b[37m\u001b[0m \u001b[1m0s\u001b[0m 1ms/step - accuracy: 0.7546 - loss: 0.7852 - val_accuracy: 0.8197 - val_loss: 0.6493\n",
      "Epoch 10/20\n",
      "\u001b[1m400/400\u001b[0m \u001b[32m━━━━━━━━━━━━━━━━━━━━\u001b[0m\u001b[37m\u001b[0m \u001b[1m0s\u001b[0m 1ms/step - accuracy: 0.7611 - loss: 0.7726 - val_accuracy: 0.8247 - val_loss: 0.6244\n",
      "Epoch 11/20\n",
      "\u001b[1m400/400\u001b[0m \u001b[32m━━━━━━━━━━━━━━━━━━━━\u001b[0m\u001b[37m\u001b[0m \u001b[1m1s\u001b[0m 1ms/step - accuracy: 0.7725 - loss: 0.7376 - val_accuracy: 0.8350 - val_loss: 0.5996\n",
      "Epoch 12/20\n",
      "\u001b[1m400/400\u001b[0m \u001b[32m━━━━━━━━━━━━━━━━━━━━\u001b[0m\u001b[37m\u001b[0m \u001b[1m0s\u001b[0m 1ms/step - accuracy: 0.7770 - loss: 0.7116 - val_accuracy: 0.8384 - val_loss: 0.5820\n",
      "Epoch 13/20\n",
      "\u001b[1m400/400\u001b[0m \u001b[32m━━━━━━━━━━━━━━━━━━━━\u001b[0m\u001b[37m\u001b[0m \u001b[1m0s\u001b[0m 1ms/step - accuracy: 0.7881 - loss: 0.6926 - val_accuracy: 0.8422 - val_loss: 0.5630\n",
      "Epoch 14/20\n",
      "\u001b[1m400/400\u001b[0m \u001b[32m━━━━━━━━━━━━━━━━━━━━\u001b[0m\u001b[37m\u001b[0m \u001b[1m0s\u001b[0m 1ms/step - accuracy: 0.7942 - loss: 0.6632 - val_accuracy: 0.8434 - val_loss: 0.5479\n",
      "Epoch 15/20\n",
      "\u001b[1m400/400\u001b[0m \u001b[32m━━━━━━━━━━━━━━━━━━━━\u001b[0m\u001b[37m\u001b[0m \u001b[1m0s\u001b[0m 1ms/step - accuracy: 0.7874 - loss: 0.6745 - val_accuracy: 0.8503 - val_loss: 0.5312\n",
      "Epoch 16/20\n",
      "\u001b[1m400/400\u001b[0m \u001b[32m━━━━━━━━━━━━━━━━━━━━\u001b[0m\u001b[37m\u001b[0m \u001b[1m0s\u001b[0m 1ms/step - accuracy: 0.7945 - loss: 0.6610 - val_accuracy: 0.8559 - val_loss: 0.5201\n",
      "Epoch 17/20\n",
      "\u001b[1m400/400\u001b[0m \u001b[32m━━━━━━━━━━━━━━━━━━━━\u001b[0m\u001b[37m\u001b[0m \u001b[1m0s\u001b[0m 1ms/step - accuracy: 0.7929 - loss: 0.6383 - val_accuracy: 0.8600 - val_loss: 0.5064\n",
      "Epoch 18/20\n",
      "\u001b[1m400/400\u001b[0m \u001b[32m━━━━━━━━━━━━━━━━━━━━\u001b[0m\u001b[37m\u001b[0m \u001b[1m1s\u001b[0m 1ms/step - accuracy: 0.8027 - loss: 0.6421 - val_accuracy: 0.8572 - val_loss: 0.4971\n",
      "Epoch 19/20\n",
      "\u001b[1m400/400\u001b[0m \u001b[32m━━━━━━━━━━━━━━━━━━━━\u001b[0m\u001b[37m\u001b[0m \u001b[1m1s\u001b[0m 1ms/step - accuracy: 0.8004 - loss: 0.6235 - val_accuracy: 0.8594 - val_loss: 0.4887\n",
      "Epoch 20/20\n",
      "\u001b[1m400/400\u001b[0m \u001b[32m━━━━━━━━━━━━━━━━━━━━\u001b[0m\u001b[37m\u001b[0m \u001b[1m1s\u001b[0m 1ms/step - accuracy: 0.7983 - loss: 0.6298 - val_accuracy: 0.8634 - val_loss: 0.4760\n"
     ]
    }
   ],
   "source": [
    "baseline_cfg = {'hidden_layers': 1, 'units': 64, 'activation': 'relu', 'learning_rate': 0.001}\n",
    "baseline_model = build_model(baseline_cfg, X_tr.shape[1], num_classes)\n",
    "\n",
    "history_baseline = baseline_model.fit(\n",
    "    X_tr, y_tr,\n",
    "    validation_data=(X_val, y_val),\n",
    "    epochs=20,\n",
    "    batch_size=32,\n",
    "    verbose=1\n",
    ")"
   ]
  },
  {
   "cell_type": "code",
   "execution_count": 47,
   "id": "a6560d75-e7ee-4299-b0c4-277eaf492090",
   "metadata": {},
   "outputs": [
    {
     "data": {
      "image/png": "[encoded data removed]",
      "text/plain": [
       "<Figure size 600x400 with 1 Axes>"
      ]
     },
     "metadata": {},
     "output_type": "display_data"
    }
   ],
   "source": [
    "plt.figure(figsize=(6,4))\n",
    "plt.plot(history_baseline.history['accuracy'], label='train_acc')\n",
    "plt.plot(history_baseline.history['val_accuracy'], label='val_acc')\n",
    "plt.title('Baseline ANN Accuracy')\n",
    "plt.xlabel('Epoch')\n",
    "plt.ylabel('Accuracy')\n",
    "plt.legend()\n",
    "plt.tight_layout()\n",
    "plt.show()"
   ]
  },
  {
   "cell_type": "code",
   "execution_count": 48,
   "id": "9e60ccb4-1946-4519-bbff-067737dad2eb",
   "metadata": {},
   "outputs": [],
   "source": [
    "param_grid = [\n",
    "    {'hidden_layers': 1, 'units': 64,  'activation': 'relu', 'learning_rate': 0.001},\n",
    "    {'hidden_layers': 2, 'units': 128, 'activation': 'relu', 'learning_rate': 0.001},\n",
    "    {'hidden_layers': 2, 'units': 128, 'activation': 'tanh', 'learning_rate': 0.0005},\n",
    "    {'hidden_layers': 3, 'units': 256, 'activation': 'relu', 'learning_rate': 0.0001},\n",
    "]\n"
   ]
  },
  {
   "cell_type": "code",
   "execution_count": 49,
   "id": "6d97b955-eaf3-449d-a9c3-0fcf233a58a3",
   "metadata": {},
   "outputs": [
    {
     "name": "stdout",
     "output_type": "stream",
     "text": [
      "Tried: {'hidden_layers': 1, 'units': 64, 'activation': 'relu', 'learning_rate': 0.001} Val Acc: 0.8634374737739563\n",
      "Tried: {'hidden_layers': 2, 'units': 128, 'activation': 'relu', 'learning_rate': 0.001} Val Acc: 0.9487500190734863\n",
      "Tried: {'hidden_layers': 2, 'units': 128, 'activation': 'tanh', 'learning_rate': 0.0005} Val Acc: 0.8987500071525574\n",
      "Tried: {'hidden_layers': 3, 'units': 256, 'activation': 'relu', 'learning_rate': 0.0001} Val Acc: 0.918749988079071\n",
      "\n",
      "Best Config: {'hidden_layers': 2, 'units': 128, 'activation': 'relu', 'learning_rate': 0.001} Best Val Acc: 0.9487500190734863\n"
     ]
    }
   ],
   "source": [
    "best_cfg = None\n",
    "best_val_acc = -np.inf\n",
    "best_history = None\n",
    "best_model = None\n",
    "\n",
    "for cfg in param_grid:\n",
    "    model = build_model(cfg, X_tr.shape[1], num_classes)\n",
    "    history = model.fit(\n",
    "        X_tr, y_tr,\n",
    "        validation_data=(X_val, y_val),\n",
    "        epochs=20,\n",
    "        batch_size=32,\n",
    "        verbose=0\n",
    "    )\n",
    "    val_acc = max(history.history['val_accuracy'])\n",
    "    print(\"Tried:\", cfg, \"Val Acc:\", val_acc)\n",
    "    if val_acc > best_val_acc:\n",
    "        best_val_acc = val_acc\n",
    "        best_cfg = cfg\n",
    "        best_history = history\n",
    "        best_model = model\n",
    "\n",
    "print(\"\\nBest Config:\", best_cfg, \"Best Val Acc:\", best_val_acc)"
   ]
  },
  {
   "cell_type": "markdown",
   "id": "81cd3015-3bb0-45b8-9b23-c44ffa445ea8",
   "metadata": {},
   "source": [
    "## Evaluation"
   ]
  },
  {
   "cell_type": "code",
   "execution_count": 50,
   "id": "b1e5a03b-cdaa-4f6b-9e36-e4e99eebf767",
   "metadata": {},
   "outputs": [
    {
     "name": "stdout",
     "output_type": "stream",
     "text": [
      "\u001b[1m125/125\u001b[0m \u001b[32m━━━━━━━━━━━━━━━━━━━━\u001b[0m\u001b[37m\u001b[0m \u001b[1m0s\u001b[0m 951us/step\n"
     ]
    }
   ],
   "source": [
    "y_pred = np.argmax(best_model.predict(X_test), axis=1) if num_classes > 2 else (best_model.predict(X_test) > 0.5).astype(\"int32\").flatten()"
   ]
  },
  {
   "cell_type": "code",
   "execution_count": 61,
   "id": "69b17125-d5c9-4190-b266-88b6ba831310",
   "metadata": {},
   "outputs": [
    {
     "name": "stdout",
     "output_type": "stream",
     "text": [
      "Test Accuracy: 0.95175\n",
      "Precision: 0.9526386896621412\n",
      "Recall: 0.95175\n",
      "F1 Score: 0.9518697345259407\n"
     ]
    }
   ],
   "source": [
    "print(\"Test Accuracy:\", accuracy_score(y_test, y_pred))\n",
    "print(\"Precision:\", precision_score(y_test, y_pred, average='weighted'))\n",
    "print(\"Recall:\", recall_score(y_test, y_pred, average='weighted'))\n",
    "print(\"F1 Score:\", f1_score(y_test, y_pred, average='weighted'))"
   ]
  },
  {
   "cell_type": "markdown",
   "id": "adf65abd-7b31-4002-9f07-c3cd595eaff1",
   "metadata": {},
   "source": [
    "=== Discussion Notes ===\n",
    "\n",
    "• Data normalization (StandardScaler) improved optimization stability for ANN.\n",
    "\n",
    "• EarlyStopping and ReduceLROnPlateau helped avoid overfitting and tuned learning rates.\n",
    "\n",
    "• Hyperparameters (layers/units/activation/lr/batch_size/dropout) materially affect validation accuracy.\n",
    "\n",
    "• Compare confusion matrices to see which classes benefited most from tuning."
   ]
  },
  {
   "cell_type": "code",
   "execution_count": null,
   "id": "8511fbc3-2da8-401d-90d9-62e7e3a6a906",
   "metadata": {},
   "outputs": [],
   "source": []
  }
 ],
 "metadata": {
  "kernelspec": {
   "display_name": "python (ai_env)",
   "language": "python",
   "name": "ai_env"
  },
  "language_info": {
   "codemirror_mode": {
    "name": "ipython",
    "version": 3
   },
   "file_extension": ".py",
   "mimetype": "text/x-python",
   "name": "python",
   "nbconvert_exporter": "python",
   "pygments_lexer": "ipython3",
   "version": "3.9.23"
  }
 },
 "nbformat": 4,
 "nbformat_minor": 5
}
